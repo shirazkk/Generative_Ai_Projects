{
  "nbformat": 4,
  "nbformat_minor": 0,
  "metadata": {
    "colab": {
      "provenance": [],
      "authorship_tag": "ABX9TyNyCAujmkQNq/DxCneHxJN1",
      "include_colab_link": true
    },
    "kernelspec": {
      "name": "python3",
      "display_name": "Python 3"
    },
    "language_info": {
      "name": "python"
    }
  },
  "cells": [
    {
      "cell_type": "markdown",
      "metadata": {
        "id": "view-in-github",
        "colab_type": "text"
      },
      "source": [
        "<a href=\"https://colab.research.google.com/github/shirazkk/Generative_Ai_Projects/blob/main/Project_1_LangChain_Hello_World_Program.ipynb\" target=\"_parent\"><img src=\"https://colab.research.google.com/assets/colab-badge.svg\" alt=\"Open In Colab\"/></a>"
      ]
    },
    {
      "cell_type": "code",
      "source": [
        "import langchain_google_genai as genai"
      ],
      "metadata": {
        "id": "OchKMa2UZrlG"
      },
      "execution_count": 6,
      "outputs": []
    },
    {
      "cell_type": "code",
      "source": [
        "from langchain_google_genai import ChatGoogleGenerativeAI"
      ],
      "metadata": {
        "id": "7zZP12M4Z4iy"
      },
      "execution_count": 7,
      "outputs": []
    },
    {
      "cell_type": "code",
      "source": [
        "from google.colab import userdata\n",
        "GOOGLE_API_KEY = userdata.get('GOOGLE_API_KEY')"
      ],
      "metadata": {
        "id": "3ufHVxm0aWs3"
      },
      "execution_count": 8,
      "outputs": []
    },
    {
      "cell_type": "code",
      "source": [
        "llm : ChatGoogleGenerativeAI = ChatGoogleGenerativeAI(\n",
        "  model=\"gemini-2.0-flash-exp\",\n",
        "  api_key=GOOGLE_API_KEY,\n",
        "  temperature=0.1,\n",
        "  max_tokens=150\n",
        "\n",
        ")"
      ],
      "metadata": {
        "id": "VilVDzvdadbB"
      },
      "execution_count": 29,
      "outputs": []
    },
    {
      "cell_type": "code",
      "source": [
        "response = llm.invoke(\"write hello wolrd program of python?\")"
      ],
      "metadata": {
        "id": "9RC6R1aQc9OP"
      },
      "execution_count": 30,
      "outputs": []
    },
    {
      "cell_type": "code",
      "source": [
        "print(response.content)"
      ],
      "metadata": {
        "colab": {
          "base_uri": "https://localhost:8080/"
        },
        "id": "FVTLarbuahdk",
        "outputId": "c1a612c4-8e22-4b0e-9b75-fee0be0da9d1"
      },
      "execution_count": 31,
      "outputs": [
        {
          "output_type": "stream",
          "name": "stdout",
          "text": [
            "```python\n",
            "print(\"Hello, world!\")\n",
            "```\n",
            "\n",
            "**Explanation:**\n",
            "\n",
            "* **`print()`:** This is a built-in function in Python that displays output to the console (your screen).\n",
            "* **`\"Hello, world!\"`:** This is a string literal, which is the text you want to display. The text is enclosed in double quotes.\n",
            "\n",
            "**How to run this code:**\n",
            "\n",
            "1. **Save the code:** Save the code in a file named `hello.py` (or any name you like, but it should end with `.py`).\n",
            "2. **Open a terminal or command prompt:** Navigate to the directory where you saved the file.\n",
            "3. **Run the code:** Type `python\n"
          ]
        }
      ]
    }
  ]
}